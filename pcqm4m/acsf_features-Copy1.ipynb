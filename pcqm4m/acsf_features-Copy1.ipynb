{
 "cells": [
  {
   "cell_type": "code",
   "execution_count": 1,
   "metadata": {},
   "outputs": [],
   "source": [
    "from ogb.lsc import PygPCQM4MDataset, PCQM4MDataset\n",
    "from openbabel import pybel\n",
    "from dscribe.descriptors import ACSF\n",
    "from dscribe.core.system import System\n",
    "from rdkit import Chem\n",
    "\n",
    "import numpy as np\n",
    "import pandas as pd\n",
    "# from pandarallel import pandarallel\n",
    "\n",
    "import torch\n",
    "\n",
    "from pathlib import Path\n",
    "\n",
    "from collections import defaultdict\n",
    "import sys\n",
    "\n",
    "# pandarallel.initialize(nb_workers=16, progress_bar=True)"
   ]
  },
  {
   "cell_type": "code",
   "execution_count": 2,
   "metadata": {},
   "outputs": [],
   "source": [
    "orig_data = PygPCQM4MDataset(root = '../../data')\n",
    "smiles_data = PCQM4MDataset(root=\"../../smiles_data\", only_smiles=True)"
   ]
  },
  {
   "cell_type": "code",
   "execution_count": 3,
   "metadata": {},
   "outputs": [],
   "source": [
    "# def make_unique_atom_dict(smiles_string):\n",
    "#     rdkit_mol = Chem.MolFromSmiles(smiles_string)\n",
    "#     for atom in rdkit_mol.GetAtoms():\n",
    "#         unique_atom_dict[atom.GetSymbol()] += 1\n",
    "#     return True\n",
    "\n",
    "# unique_atom_dict = defaultdict(lambda: 0)\n",
    "# smiles_df = pd.DataFrame({\"smiles\": smiles_data.graphs})\n",
    "# _ = smiles_df[\"smiles\"].parallel_apply(lambda x: make_unique_atom_dict(x))"
   ]
  },
  {
   "cell_type": "code",
   "execution_count": 4,
   "metadata": {},
   "outputs": [],
   "source": [
    "# To run for unique atom check\n",
    "# unique_atom_dict = defaultdict(lambda: 0)\n",
    "# total = len(smiles_data)\n",
    "# for idx, (smiles_string, _) in enumerate(smiles_data):\n",
    "#     sys.stdout.write(\"\\r{}/{}\".format(idx+1, total))\n",
    "#     sys.stdout.flush()\n",
    "#     rdkit_mol = Chem.MolFromSmiles(smiles_string)\n",
    "#     for atom in rdkit_mol.GetAtoms():\n",
    "#         unique_atom_dict[atom.GetSymbol()] += 1"
   ]
  },
  {
   "cell_type": "code",
   "execution_count": 45,
   "metadata": {},
   "outputs": [],
   "source": [
    "periodic_table = Chem.GetPeriodicTable()\n",
    "\n",
    "def make_3D_mol_df(mol, drop_Hs=True):\n",
    "    atom_symbols = []\n",
    "    x_coords = []\n",
    "    y_coords = []\n",
    "    z_coords = []\n",
    "    for atom in mol.atoms:\n",
    "        atom_symbols.append(Chem.PeriodicTable.GetElementSymbol(periodic_table, atom.atomicnum))\n",
    "        coords = list(atom.coords)\n",
    "        x_coords.append(coords[0])\n",
    "        y_coords.append(coords[1])\n",
    "        z_coords.append(coords[2])\n",
    "    mol_df = pd.DataFrame({\"atom\": atom_symbols, \"x\": x_coords, \"y\": y_coords, \"z\": z_coords})\n",
    "    if drop_Hs:\n",
    "        mol_df = mol_df[mol_df[\"atom\"] != \"H\"].reset_index(drop=True)\n",
    "    return mol_df\n",
    "\n",
    "def get_atoms_rdkit(smiles_string):\n",
    "    rdkit_mol = Chem.MolFromSmiles(smiles_string)\n",
    "    rdkit_atom_symbols = []\n",
    "    for atom in rdkit_mol.GetAtoms():\n",
    "        rdkit_atom_symbols.append(atom.GetSymbol())\n",
    "    return rdkit_atom_symbols"
   ]
  },
  {
   "cell_type": "code",
   "execution_count": 46,
   "metadata": {},
   "outputs": [],
   "source": [
    "SYMBOL = ['C', 'N', 'O', 'F', 'S']\n",
    "ACSF_GENERATOR = ACSF(\n",
    "    species = SYMBOL,\n",
    "    rcut = 10.0,\n",
    "    g2_params=[[1, 2], [0.1, 2], [0.01, 2], [1, 6], [0.1, 6], [0.01, 6]],\n",
    "    g4_params=[[1, 4,  1], [0.1, 4,  1], [0.01, 4,  1], [1, 4, -1], [0.1, 4, -1], [0.01, 4, -1]],\n",
    ")"
   ]
  },
  {
   "cell_type": "code",
   "execution_count": 47,
   "metadata": {},
   "outputs": [
    {
     "name": "stdout",
     "output_type": "stream",
     "text": [
      "5/3803453"
     ]
    },
    {
     "ename": "ValueError",
     "evalue": "The following atomic numbers are not defined for this descriptor: {17}",
     "output_type": "error",
     "traceback": [
      "\u001b[0;31m---------------------------------------------------------------------------\u001b[0m",
      "\u001b[0;31mValueError\u001b[0m                                Traceback (most recent call last)",
      "\u001b[0;32m<ipython-input-47-9fa14a28a6f2>\u001b[0m in \u001b[0;36m<module>\u001b[0;34m\u001b[0m\n\u001b[1;32m     19\u001b[0m \u001b[0;34m\u001b[0m\u001b[0m\n\u001b[1;32m     20\u001b[0m     \u001b[0matoms\u001b[0m \u001b[0;34m=\u001b[0m \u001b[0mSystem\u001b[0m\u001b[0;34m(\u001b[0m\u001b[0msymbols\u001b[0m\u001b[0;34m=\u001b[0m\u001b[0mmol_df\u001b[0m\u001b[0;34m.\u001b[0m\u001b[0matom\u001b[0m\u001b[0;34m.\u001b[0m\u001b[0mvalues\u001b[0m\u001b[0;34m.\u001b[0m\u001b[0mtolist\u001b[0m\u001b[0;34m(\u001b[0m\u001b[0;34m)\u001b[0m\u001b[0;34m,\u001b[0m \u001b[0mpositions\u001b[0m\u001b[0;34m=\u001b[0m\u001b[0mmol_df\u001b[0m\u001b[0;34m[\u001b[0m\u001b[0;34m[\u001b[0m\u001b[0;34m'x'\u001b[0m\u001b[0;34m,\u001b[0m \u001b[0;34m'y'\u001b[0m\u001b[0;34m,\u001b[0m \u001b[0;34m'z'\u001b[0m\u001b[0;34m]\u001b[0m\u001b[0;34m]\u001b[0m\u001b[0;34m.\u001b[0m\u001b[0mvalues\u001b[0m\u001b[0;34m)\u001b[0m\u001b[0;34m\u001b[0m\u001b[0;34m\u001b[0m\u001b[0m\n\u001b[0;32m---> 21\u001b[0;31m     \u001b[0macsf\u001b[0m \u001b[0;34m=\u001b[0m \u001b[0mACSF_GENERATOR\u001b[0m\u001b[0;34m.\u001b[0m\u001b[0mcreate\u001b[0m\u001b[0;34m(\u001b[0m\u001b[0matoms\u001b[0m\u001b[0;34m)\u001b[0m\u001b[0;34m\u001b[0m\u001b[0;34m\u001b[0m\u001b[0m\n\u001b[0m\u001b[1;32m     22\u001b[0m \u001b[0;34m\u001b[0m\u001b[0m\n\u001b[1;32m     23\u001b[0m     \u001b[0;32massert\u001b[0m \u001b[0mgraph_features\u001b[0m\u001b[0;34m.\u001b[0m\u001b[0mx\u001b[0m\u001b[0;34m.\u001b[0m\u001b[0msize\u001b[0m\u001b[0;34m(\u001b[0m\u001b[0;34m)\u001b[0m\u001b[0;34m[\u001b[0m\u001b[0;36m0\u001b[0m\u001b[0;34m]\u001b[0m \u001b[0;34m==\u001b[0m \u001b[0macsf\u001b[0m\u001b[0;34m.\u001b[0m\u001b[0mshape\u001b[0m\u001b[0;34m[\u001b[0m\u001b[0;36m0\u001b[0m\u001b[0;34m]\u001b[0m\u001b[0;34m\u001b[0m\u001b[0;34m\u001b[0m\u001b[0m\n",
      "\u001b[0;32m~/.conda/envs/ogb_lsc/lib/python3.8/site-packages/dscribe/descriptors/acsf.py\u001b[0m in \u001b[0;36mcreate\u001b[0;34m(self, system, positions, n_jobs, only_physical_cores, verbose)\u001b[0m\n\u001b[1;32m    130\u001b[0m         \u001b[0;31m# If single system given, skip the parallelization\u001b[0m\u001b[0;34m\u001b[0m\u001b[0;34m\u001b[0m\u001b[0;34m\u001b[0m\u001b[0m\n\u001b[1;32m    131\u001b[0m         \u001b[0;32mif\u001b[0m \u001b[0misinstance\u001b[0m\u001b[0;34m(\u001b[0m\u001b[0msystem\u001b[0m\u001b[0;34m,\u001b[0m \u001b[0;34m(\u001b[0m\u001b[0mAtoms\u001b[0m\u001b[0;34m,\u001b[0m \u001b[0mSystem\u001b[0m\u001b[0;34m)\u001b[0m\u001b[0;34m)\u001b[0m\u001b[0;34m:\u001b[0m\u001b[0;34m\u001b[0m\u001b[0;34m\u001b[0m\u001b[0m\n\u001b[0;32m--> 132\u001b[0;31m             \u001b[0;32mreturn\u001b[0m \u001b[0mself\u001b[0m\u001b[0;34m.\u001b[0m\u001b[0mcreate_single\u001b[0m\u001b[0;34m(\u001b[0m\u001b[0msystem\u001b[0m\u001b[0;34m,\u001b[0m \u001b[0mpositions\u001b[0m\u001b[0;34m)\u001b[0m\u001b[0;34m\u001b[0m\u001b[0;34m\u001b[0m\u001b[0m\n\u001b[0m\u001b[1;32m    133\u001b[0m         \u001b[0;32melse\u001b[0m\u001b[0;34m:\u001b[0m\u001b[0;34m\u001b[0m\u001b[0;34m\u001b[0m\u001b[0m\n\u001b[1;32m    134\u001b[0m             \u001b[0mself\u001b[0m\u001b[0;34m.\u001b[0m\u001b[0m_check_system_list\u001b[0m\u001b[0;34m(\u001b[0m\u001b[0msystem\u001b[0m\u001b[0;34m)\u001b[0m\u001b[0;34m\u001b[0m\u001b[0;34m\u001b[0m\u001b[0m\n",
      "\u001b[0;32m~/.conda/envs/ogb_lsc/lib/python3.8/site-packages/dscribe/descriptors/acsf.py\u001b[0m in \u001b[0;36mcreate_single\u001b[0;34m(self, system, positions)\u001b[0m\n\u001b[1;32m    286\u001b[0m \u001b[0;34m\u001b[0m\u001b[0m\n\u001b[1;32m    287\u001b[0m         \u001b[0;31m# Check if there are types that have not been declared\u001b[0m\u001b[0;34m\u001b[0m\u001b[0;34m\u001b[0m\u001b[0;34m\u001b[0m\u001b[0m\n\u001b[0;32m--> 288\u001b[0;31m         \u001b[0mself\u001b[0m\u001b[0;34m.\u001b[0m\u001b[0mcheck_atomic_numbers\u001b[0m\u001b[0;34m(\u001b[0m\u001b[0msystem\u001b[0m\u001b[0;34m.\u001b[0m\u001b[0mget_atomic_numbers\u001b[0m\u001b[0;34m(\u001b[0m\u001b[0;34m)\u001b[0m\u001b[0;34m)\u001b[0m\u001b[0;34m\u001b[0m\u001b[0;34m\u001b[0m\u001b[0m\n\u001b[0m\u001b[1;32m    289\u001b[0m \u001b[0;34m\u001b[0m\u001b[0m\n\u001b[1;32m    290\u001b[0m         \u001b[0;31m# Return sparse matrix if requested\u001b[0m\u001b[0;34m\u001b[0m\u001b[0;34m\u001b[0m\u001b[0;34m\u001b[0m\u001b[0m\n",
      "\u001b[0;32m~/.conda/envs/ogb_lsc/lib/python3.8/site-packages/dscribe/descriptors/descriptor.py\u001b[0m in \u001b[0;36mcheck_atomic_numbers\u001b[0;34m(self, atomic_numbers)\u001b[0m\n\u001b[1;32m    157\u001b[0m         \u001b[0mzs\u001b[0m \u001b[0;34m=\u001b[0m \u001b[0mset\u001b[0m\u001b[0;34m(\u001b[0m\u001b[0matomic_numbers\u001b[0m\u001b[0;34m)\u001b[0m\u001b[0;34m\u001b[0m\u001b[0;34m\u001b[0m\u001b[0m\n\u001b[1;32m    158\u001b[0m         \u001b[0;32mif\u001b[0m \u001b[0;32mnot\u001b[0m \u001b[0mzs\u001b[0m\u001b[0;34m.\u001b[0m\u001b[0missubset\u001b[0m\u001b[0;34m(\u001b[0m\u001b[0mself\u001b[0m\u001b[0;34m.\u001b[0m\u001b[0m_atomic_number_set\u001b[0m\u001b[0;34m)\u001b[0m\u001b[0;34m:\u001b[0m\u001b[0;34m\u001b[0m\u001b[0;34m\u001b[0m\u001b[0m\n\u001b[0;32m--> 159\u001b[0;31m             raise ValueError(\n\u001b[0m\u001b[1;32m    160\u001b[0m                 \u001b[0;34m\"The following atomic numbers are not defined \"\u001b[0m\u001b[0;34m\u001b[0m\u001b[0;34m\u001b[0m\u001b[0m\n\u001b[1;32m    161\u001b[0m                 \u001b[0;34m\"for this descriptor: {}\"\u001b[0m\u001b[0;34m.\u001b[0m\u001b[0mformat\u001b[0m\u001b[0;34m(\u001b[0m\u001b[0mzs\u001b[0m\u001b[0;34m.\u001b[0m\u001b[0mdifference\u001b[0m\u001b[0;34m(\u001b[0m\u001b[0mself\u001b[0m\u001b[0;34m.\u001b[0m\u001b[0m_atomic_number_set\u001b[0m\u001b[0;34m)\u001b[0m\u001b[0;34m)\u001b[0m\u001b[0;34m\u001b[0m\u001b[0;34m\u001b[0m\u001b[0m\n",
      "\u001b[0;31mValueError\u001b[0m: The following atomic numbers are not defined for this descriptor: {17}"
     ]
    }
   ],
   "source": [
    "idx = int(np.random.choice(np.arange(len(smiles_data))))\n",
    "total = len(smiles_data)\n",
    "graphs = []\n",
    "labels = []\n",
    "for idx, (smiles_string, homolumogap) in enumerate(smiles_data):\n",
    "    sys.stdout.write(\"\\r{}/{}\".format(idx+1, total))\n",
    "    sys.stdout.flush()\n",
    "    \n",
    "    graph_features = orig_data[idx]\n",
    "\n",
    "    assert homolumogap == graph_features.y\n",
    "\n",
    "    mol = pybel.readstring('smi', smiles_string)\n",
    "    mol.make3D()\n",
    "\n",
    "    mol_df = make_3D_mol_df(mol)\n",
    "\n",
    "    assert mol_df.atom.values.tolist() == get_atoms_rdkit(smiles_string)\n",
    "\n",
    "    atoms = System(symbols=mol_df.atom.values.tolist(), positions=mol_df[['x', 'y', 'z']].values)\n",
    "    acsf = ACSF_GENERATOR.create(atoms)\n",
    "\n",
    "    assert graph_features.x.size()[0] == acsf.shape[0]\n",
    "    \n",
    "    graph_features.x = torch.cat([graph_features.x, torch.Tensor(acsf)], dim=1)\n",
    "    \n",
    "    graphs.append(graph_features)\n",
    "    labels.append(homolumogap)\n",
    "    \n",
    "    if idx == 10:\n",
    "        break\n",
    "labels = np.array(labels)"
   ]
  },
  {
   "cell_type": "code",
   "execution_count": 48,
   "metadata": {},
   "outputs": [
    {
     "data": {
      "text/plain": [
       "['C',\n",
       " 'C',\n",
       " 'C',\n",
       " 'N',\n",
       " 'C',\n",
       " 'O',\n",
       " 'C',\n",
       " 'C',\n",
       " 'C',\n",
       " 'C',\n",
       " 'C',\n",
       " 'C',\n",
       " 'C',\n",
       " 'C',\n",
       " 'C',\n",
       " 'Cl']"
      ]
     },
     "execution_count": 48,
     "metadata": {},
     "output_type": "execute_result"
    }
   ],
   "source": [
    "get_atoms_rdkit(smiles_string)"
   ]
  },
  {
   "cell_type": "code",
   "execution_count": 49,
   "metadata": {},
   "outputs": [
    {
     "data": {
      "text/html": [
       "<div>\n",
       "<style scoped>\n",
       "    .dataframe tbody tr th:only-of-type {\n",
       "        vertical-align: middle;\n",
       "    }\n",
       "\n",
       "    .dataframe tbody tr th {\n",
       "        vertical-align: top;\n",
       "    }\n",
       "\n",
       "    .dataframe thead th {\n",
       "        text-align: right;\n",
       "    }\n",
       "</style>\n",
       "<table border=\"1\" class=\"dataframe\">\n",
       "  <thead>\n",
       "    <tr style=\"text-align: right;\">\n",
       "      <th></th>\n",
       "      <th>atom</th>\n",
       "      <th>x</th>\n",
       "      <th>y</th>\n",
       "      <th>z</th>\n",
       "    </tr>\n",
       "  </thead>\n",
       "  <tbody>\n",
       "    <tr>\n",
       "      <th>0</th>\n",
       "      <td>C</td>\n",
       "      <td>0.811983</td>\n",
       "      <td>-0.142066</td>\n",
       "      <td>0.227273</td>\n",
       "    </tr>\n",
       "    <tr>\n",
       "      <th>1</th>\n",
       "      <td>C</td>\n",
       "      <td>2.152868</td>\n",
       "      <td>-0.146397</td>\n",
       "      <td>0.239493</td>\n",
       "    </tr>\n",
       "    <tr>\n",
       "      <th>2</th>\n",
       "      <td>C</td>\n",
       "      <td>3.204590</td>\n",
       "      <td>-0.582895</td>\n",
       "      <td>1.180150</td>\n",
       "    </tr>\n",
       "    <tr>\n",
       "      <th>3</th>\n",
       "      <td>N</td>\n",
       "      <td>4.653305</td>\n",
       "      <td>-0.354219</td>\n",
       "      <td>0.744362</td>\n",
       "    </tr>\n",
       "    <tr>\n",
       "      <th>4</th>\n",
       "      <td>C</td>\n",
       "      <td>5.170213</td>\n",
       "      <td>0.179077</td>\n",
       "      <td>-0.449348</td>\n",
       "    </tr>\n",
       "    <tr>\n",
       "      <th>5</th>\n",
       "      <td>O</td>\n",
       "      <td>6.396975</td>\n",
       "      <td>0.271304</td>\n",
       "      <td>-0.652567</td>\n",
       "    </tr>\n",
       "    <tr>\n",
       "      <th>6</th>\n",
       "      <td>C</td>\n",
       "      <td>4.435906</td>\n",
       "      <td>0.734387</td>\n",
       "      <td>-1.653950</td>\n",
       "    </tr>\n",
       "    <tr>\n",
       "      <th>7</th>\n",
       "      <td>C</td>\n",
       "      <td>5.563380</td>\n",
       "      <td>-0.812141</td>\n",
       "      <td>1.757888</td>\n",
       "    </tr>\n",
       "    <tr>\n",
       "      <th>8</th>\n",
       "      <td>C</td>\n",
       "      <td>6.912095</td>\n",
       "      <td>-0.825416</td>\n",
       "      <td>1.733927</td>\n",
       "    </tr>\n",
       "    <tr>\n",
       "      <th>9</th>\n",
       "      <td>C</td>\n",
       "      <td>7.836453</td>\n",
       "      <td>-1.339270</td>\n",
       "      <td>2.766208</td>\n",
       "    </tr>\n",
       "    <tr>\n",
       "      <th>10</th>\n",
       "      <td>C</td>\n",
       "      <td>8.993449</td>\n",
       "      <td>-0.572685</td>\n",
       "      <td>3.028052</td>\n",
       "    </tr>\n",
       "    <tr>\n",
       "      <th>11</th>\n",
       "      <td>C</td>\n",
       "      <td>9.954349</td>\n",
       "      <td>-1.001486</td>\n",
       "      <td>3.949300</td>\n",
       "    </tr>\n",
       "    <tr>\n",
       "      <th>12</th>\n",
       "      <td>C</td>\n",
       "      <td>9.779443</td>\n",
       "      <td>-2.208140</td>\n",
       "      <td>4.617703</td>\n",
       "    </tr>\n",
       "    <tr>\n",
       "      <th>13</th>\n",
       "      <td>C</td>\n",
       "      <td>8.662664</td>\n",
       "      <td>-2.996494</td>\n",
       "      <td>4.342620</td>\n",
       "    </tr>\n",
       "    <tr>\n",
       "      <th>14</th>\n",
       "      <td>C</td>\n",
       "      <td>7.705836</td>\n",
       "      <td>-2.578664</td>\n",
       "      <td>3.410439</td>\n",
       "    </tr>\n",
       "    <tr>\n",
       "      <th>15</th>\n",
       "      <td>Cl</td>\n",
       "      <td>6.420998</td>\n",
       "      <td>-3.686091</td>\n",
       "      <td>3.066300</td>\n",
       "    </tr>\n",
       "  </tbody>\n",
       "</table>\n",
       "</div>"
      ],
      "text/plain": [
       "   atom         x         y         z\n",
       "0     C  0.811983 -0.142066  0.227273\n",
       "1     C  2.152868 -0.146397  0.239493\n",
       "2     C  3.204590 -0.582895  1.180150\n",
       "3     N  4.653305 -0.354219  0.744362\n",
       "4     C  5.170213  0.179077 -0.449348\n",
       "5     O  6.396975  0.271304 -0.652567\n",
       "6     C  4.435906  0.734387 -1.653950\n",
       "7     C  5.563380 -0.812141  1.757888\n",
       "8     C  6.912095 -0.825416  1.733927\n",
       "9     C  7.836453 -1.339270  2.766208\n",
       "10    C  8.993449 -0.572685  3.028052\n",
       "11    C  9.954349 -1.001486  3.949300\n",
       "12    C  9.779443 -2.208140  4.617703\n",
       "13    C  8.662664 -2.996494  4.342620\n",
       "14    C  7.705836 -2.578664  3.410439\n",
       "15   Cl  6.420998 -3.686091  3.066300"
      ]
     },
     "execution_count": 49,
     "metadata": {},
     "output_type": "execute_result"
    }
   ],
   "source": [
    "mol_df"
   ]
  },
  {
   "cell_type": "code",
   "execution_count": null,
   "metadata": {},
   "outputs": [],
   "source": [
    "torch.save({'graphs': self.graphs, 'labels': self.labels}, pre_processed_file_path, pickle_protocol=4)"
   ]
  },
  {
   "cell_type": "code",
   "execution_count": 18,
   "metadata": {},
   "outputs": [
    {
     "data": {
      "text/plain": [
       "Data(edge_attr=[40, 3], edge_index=[2, 40], x=[18, 9], y=[1])"
      ]
     },
     "execution_count": 18,
     "metadata": {},
     "output_type": "execute_result"
    }
   ],
   "source": [
    "orig_data[idx]"
   ]
  },
  {
   "cell_type": "code",
   "execution_count": 12,
   "metadata": {},
   "outputs": [
    {
     "data": {
      "text/plain": [
       "torch.Size([18, 134])"
      ]
     },
     "execution_count": 12,
     "metadata": {},
     "output_type": "execute_result"
    }
   ],
   "source": [
    ".size()"
   ]
  },
  {
   "cell_type": "code",
   "execution_count": 13,
   "metadata": {},
   "outputs": [
    {
     "data": {
      "text/plain": [
       "torch.Size([18, 9])"
      ]
     },
     "execution_count": 13,
     "metadata": {},
     "output_type": "execute_result"
    }
   ],
   "source": [
    "graph_features.x.size()"
   ]
  },
  {
   "cell_type": "code",
   "execution_count": 127,
   "metadata": {},
   "outputs": [],
   "source": [
    "acsf_features = [f'acsf_{i:03d}' for i in range(125)]\n",
    "structures = []\n",
    "# for idx, molecule_name in tqdm_notebook(enumerate(molecules), total=molecules.size):\n",
    "atoms = System(symbols=mol_df.atom.values.tolist(), positions=mol_df[['x', 'y', 'z']].values)\n",
    "acsf = ACSF_GENERATOR.create(atoms)\n",
    "temp_df = pd.DataFrame(acsf, columns=acsf_features)\n",
    "temp_df = pd.concat([mol_df, temp_df], axis=1)\n",
    "structures.append(temp_df)"
   ]
  },
  {
   "cell_type": "code",
   "execution_count": 128,
   "metadata": {},
   "outputs": [
    {
     "data": {
      "text/plain": [
       "(17, 125)"
      ]
     },
     "execution_count": 128,
     "metadata": {},
     "output_type": "execute_result"
    }
   ],
   "source": [
    "acsf.shape"
   ]
  },
  {
   "cell_type": "code",
   "execution_count": 34,
   "metadata": {},
   "outputs": [
    {
     "data": {
      "text/plain": [
       "(4.3547013416676785, 1.8986426326046093, 2.062458781271358)"
      ]
     },
     "execution_count": 34,
     "metadata": {},
     "output_type": "execute_result"
    }
   ],
   "source": [
    "a.coords"
   ]
  },
  {
   "cell_type": "code",
   "execution_count": 35,
   "metadata": {},
   "outputs": [
    {
     "data": {
      "text/plain": [
       "'H'"
      ]
     },
     "execution_count": 35,
     "metadata": {},
     "output_type": "execute_result"
    }
   ],
   "source": [
    "a.type"
   ]
  },
  {
   "cell_type": "code",
   "execution_count": 22,
   "metadata": {},
   "outputs": [
    {
     "name": "stdout",
     "output_type": "stream",
     "text": [
      "\n",
      " OpenBabel06072112133D\n",
      "\n",
      " 21 22  0  0  0  0  0  0  0  0999 V2000\n",
      "    1.1747    0.0647    0.0725 O   0  0  0  0  0  0  0  0  0  0  0  0\n",
      "    2.3844   -0.0507    0.0488 C   0  0  0  0  0  0  0  0  0  0  0  0\n",
      "    3.3559   -1.1051    0.0570 C   0  0  0  0  0  0  0  0  0  0  0  0\n",
      "    4.2599   -0.0983    0.0444 C   0  0  0  0  0  0  0  0  0  0  0  0\n",
      "    3.3782    0.8544    0.0091 O   0  0  0  0  0  0  0  0  0  0  0  0\n",
      "    5.7922   -0.0833    0.0820 C   0  0  0  0  0  0  0  0  0  0  0  0\n",
      "    6.3631    1.2812    0.1256 C   0  0  0  0  0  0  0  0  0  0  0  0\n",
      "    7.1461    1.8666   -0.9414 C   0  0  0  0  0  3  0  0  0  0  0  0\n",
      "    7.5481    3.1918   -0.5303 C   0  0  0  0  0  0  0  0  0  0  0  0\n",
      "    6.9459    3.4289    0.6488 C   0  0  0  0  0  0  0  0  0  0  0  0\n",
      "    6.2142    2.2351    1.0666 C   0  0  0  0  0  0  0  0  0  0  0  0\n",
      "    5.3985    2.1221    2.3042 C   0  0  0  0  0  0  0  0  0  0  0  0\n",
      "    3.3884   -2.1823    0.0841 H   0  0  0  0  0  0  0  0  0  0  0  0\n",
      "    6.1657   -0.6661   -0.7698 H   0  0  0  0  0  0  0  0  0  0  0  0\n",
      "    6.1367   -0.6899    0.9315 H   0  0  0  0  0  0  0  0  0  0  0  0\n",
      "    6.8564    1.6940   -1.9715 H   0  0  0  0  0  0  0  0  0  0  0  0\n",
      "    8.1501    3.8646   -1.1188 H   0  0  0  0  0  0  0  0  0  0  0  0\n",
      "    6.9722    4.3605    1.1921 H   0  0  0  0  0  0  0  0  0  0  0  0\n",
      "    5.3955    3.0452    2.8869 H   0  0  0  0  0  0  0  0  0  0  0  0\n",
      "    5.7744    1.3085    2.9329 H   0  0  0  0  0  0  0  0  0  0  0  0\n",
      "    4.3547    1.8986    2.0625 H   0  0  0  0  0  0  0  0  0  0  0  0\n",
      "  1  2  2  0  0  0  0\n",
      "  2  3  1  0  0  0  0\n",
      "  2  5  1  0  0  0  0\n",
      "  3  4  2  0  0  0  0\n",
      "  3 13  1  0  0  0  0\n",
      "  4  5  1  0  0  0  0\n",
      "  4  6  1  0  0  0  0\n",
      "  6  7  1  0  0  0  0\n",
      "  6 14  1  0  0  0  0\n",
      "  6 15  1  0  0  0  0\n",
      "  7  8  1  0  0  0  0\n",
      "  7 11  2  0  0  0  0\n",
      "  8  9  1  0  0  0  0\n",
      "  8 16  1  0  0  0  0\n",
      "  9 10  2  0  0  0  0\n",
      "  9 17  1  0  0  0  0\n",
      " 10 11  1  0  0  0  0\n",
      " 10 18  1  0  0  0  0\n",
      " 11 12  1  0  0  0  0\n",
      " 12 19  1  0  0  0  0\n",
      " 12 20  1  0  0  0  0\n",
      " 12 21  1  0  0  0  0\n",
      "M  END\n",
      ">  <Formula>\n",
      "C10H9O2\n",
      "\n",
      "$$$$\n",
      "\n"
     ]
    }
   ],
   "source": [
    "print(mol.write('sdf'))"
   ]
  },
  {
   "cell_type": "code",
   "execution_count": 7,
   "metadata": {},
   "outputs": [],
   "source": [
    "from rdkit.Chem import PandasTools"
   ]
  },
  {
   "cell_type": "code",
   "execution_count": 8,
   "metadata": {},
   "outputs": [],
   "source": [
    "frame = PandasTools.LoadSDF(f\"{sdf_dir}/ex.sdf\", smilesName=\"SMILES\", molColName=\"Molecule\", includeFingerprints=True)"
   ]
  },
  {
   "cell_type": "code",
   "execution_count": 9,
   "metadata": {},
   "outputs": [
    {
     "data": {
      "text/html": [
       "<div>\n",
       "<style scoped>\n",
       "    .dataframe tbody tr th:only-of-type {\n",
       "        vertical-align: middle;\n",
       "    }\n",
       "\n",
       "    .dataframe tbody tr th {\n",
       "        vertical-align: top;\n",
       "    }\n",
       "\n",
       "    .dataframe thead th {\n",
       "        text-align: right;\n",
       "    }\n",
       "</style>\n",
       "<table border=\"1\" class=\"dataframe\">\n",
       "  <thead>\n",
       "    <tr style=\"text-align: right;\">\n",
       "      <th></th>\n",
       "      <th>ID</th>\n",
       "      <th>SMILES</th>\n",
       "      <th>Molecule</th>\n",
       "    </tr>\n",
       "  </thead>\n",
       "  <tbody>\n",
       "    <tr>\n",
       "      <th>0</th>\n",
       "      <td></td>\n",
       "      <td>CC1=C(CC2=CC(=O)O2)[CH]C=C1</td>\n",
       "      <td><img data-content=\"rdkit/molecule\" src=\"data:image/png;base64,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\" alt=\"Mol\"/></td>\n",
       "    </tr>\n",
       "  </tbody>\n",
       "</table>\n",
       "</div>"
      ],
      "text/plain": [
       "  ID                       SMILES  \\\n",
       "0     CC1=C(CC2=CC(=O)O2)[CH]C=C1   \n",
       "\n",
       "                                            Molecule  \n",
       "0  <img data-content=\"rdkit/molecule\" src=\"data:i...  "
      ]
     },
     "execution_count": 9,
     "metadata": {},
     "output_type": "execute_result"
    }
   ],
   "source": [
    "frame."
   ]
  },
  {
   "cell_type": "code",
   "execution_count": 40,
   "metadata": {},
   "outputs": [],
   "source": [
    "# mol = Chem.MolFromSmiles('O=C1C=CC(O1)C(c1ccccc1C)O')"
   ]
  },
  {
   "cell_type": "code",
   "execution_count": 44,
   "metadata": {},
   "outputs": [
    {
     "name": "stdout",
     "output_type": "stream",
     "text": [
      "\n",
      "     RDKit          3D\n",
      "\n",
      " 15 16  0  0  0  0  0  0  0  0999 V2000\n",
      "    2.9426    1.9752   -2.0212 O   0  0  0  0  0  0  0  0  0  0  0  0\n",
      "    2.6003    1.0492   -1.3101 C   0  0  0  0  0  0  0  0  0  0  0  0\n",
      "    2.2570   -0.2901   -1.7827 C   0  0  0  0  0  0  0  0  0  0  0  0\n",
      "    1.9358   -1.0046   -0.7082 C   0  0  0  0  0  0  0  0  0  0  0  0\n",
      "    2.0314   -0.1835    0.5239 C   0  0  0  0  0  0  0  0  0  0  0  0\n",
      "    2.4971    1.0876    0.0469 O   0  0  0  0  0  0  0  0  0  0  0  0\n",
      "    0.7321   -0.0134    1.3618 C   0  0  0  0  0  0  0  0  0  0  0  0\n",
      "   -0.5091    0.3515    0.5484 C   0  0  0  0  0  0  0  0  0  0  0  0\n",
      "   -0.6492    1.7097    0.1830 C   0  0  0  0  0  0  0  0  0  0  0  0\n",
      "   -1.7298    2.1575   -0.5757 C   0  0  0  0  0  0  0  0  0  0  0  0\n",
      "   -2.7031    1.2580   -0.9842 C   0  0  0  0  0  0  0  0  0  0  0  0\n",
      "   -2.5911   -0.0865   -0.6359 C   0  0  0  0  0  0  0  0  0  0  0  0\n",
      "   -1.4999   -0.5610    0.1188 C   0  0  0  0  0  0  0  0  0  0  0  0\n",
      "   -1.4822   -2.0264    0.4619 C   0  0  0  0  0  0  0  0  0  0  0  0\n",
      "    0.5212   -1.1676    2.1805 O   0  0  0  0  0  0  0  0  0  0  0  0\n",
      "  1  2  2  0\n",
      "  2  3  1  0\n",
      "  3  4  2  0\n",
      "  4  5  1  0\n",
      "  5  6  1  0\n",
      "  5  7  1  0\n",
      "  7  8  1  0\n",
      "  8  9  2  0\n",
      "  9 10  1  0\n",
      " 10 11  2  0\n",
      " 11 12  1  0\n",
      " 12 13  2  0\n",
      " 13 14  1  0\n",
      "  7 15  1  0\n",
      "  6  2  1  0\n",
      " 13  8  1  0\n",
      "M  END\n",
      "\n"
     ]
    }
   ],
   "source": [
    "from rdkit import Chem\n",
    "from rdkit.Chem import AllChem\n",
    "from rdkit.Chem import Draw\n",
    "from rdkit.Chem.Draw import IPythonConsole\n",
    "\n",
    "my_mol = Chem.MolFromSmiles('O=C1C=CC(O1)C(c1ccccc1C)O')\n",
    "my_mol_with_H=Chem.AddHs(my_mol)\n",
    "AllChem.EmbedMolecule(my_mol_with_H)\n",
    "AllChem.MMFFOptimizeMolecule(my_mol_with_H)\n",
    "my_embedded_mol = Chem.RemoveHs(my_mol_with_H)\n",
    "my_embedded_mol\n",
    "\n",
    "print(Chem.MolToMolBlock(my_embedded_mol))   "
   ]
  },
  {
   "cell_type": "code",
   "execution_count": 43,
   "metadata": {},
   "outputs": [
    {
     "name": "stdout",
     "output_type": "stream",
     "text": [
      "\n",
      "     RDKit          2D\n",
      "\n",
      " 27 28  0  0  0  0  0  0  0  0999 V2000\n",
      "   -0.0782   -7.0027    0.0000 O   0  0  0  0  0  0  0  0  0  0  0  0\n",
      "    1.0365   -5.9990    0.0000 C   0  0  0  0  0  0  0  0  0  0  0  0\n",
      "    2.5037   -6.3109    0.0000 C   0  0  0  0  0  0  0  0  0  0  0  0\n",
      "    3.2537   -5.0118    0.0000 C   0  0  0  0  0  0  0  0  0  0  0  0\n",
      "    2.2500   -3.8971    0.0000 C   0  0  0  0  0  0  0  0  0  0  0  0\n",
      "    0.8797   -4.5072    0.0000 O   0  0  0  0  0  0  0  0  0  0  0  0\n",
      "    1.5000   -2.5981    0.0000 C   0  0  0  0  0  0  0  0  0  0  0  0\n",
      "    0.7500   -1.2990    0.0000 C   0  0  0  0  0  0  0  0  0  0  0  0\n",
      "    1.5000    0.0000    0.0000 C   0  0  0  0  0  0  0  0  0  0  0  0\n",
      "    0.7500    1.2990    0.0000 C   0  0  0  0  0  0  0  0  0  0  0  0\n",
      "   -0.7500    1.2990    0.0000 C   0  0  0  0  0  0  0  0  0  0  0  0\n",
      "   -1.5000    0.0000    0.0000 C   0  0  0  0  0  0  0  0  0  0  0  0\n",
      "   -0.7500   -1.2990    0.0000 C   0  0  0  0  0  0  0  0  0  0  0  0\n",
      "   -1.5000   -2.5981    0.0000 C   0  0  0  0  0  0  0  0  0  0  0  0\n",
      "    2.7990   -1.8481    0.0000 O   0  0  0  0  0  0  0  0  0  0  0  0\n",
      "    3.1138   -7.6812    0.0000 H   0  0  0  0  0  0  0  0  0  0  0  0\n",
      "    4.7455   -4.8550    0.0000 H   0  0  0  0  0  0  0  0  0  0  0  0\n",
      "    3.5619   -3.1699    0.0000 H   0  0  0  0  0  0  0  0  0  0  0  0\n",
      "    0.5297   -3.3293    0.0000 H   0  0  0  0  0  0  0  0  0  0  0  0\n",
      "    3.0000    0.0000    0.0000 H   0  0  0  0  0  0  0  0  0  0  0  0\n",
      "    1.5000    2.5981    0.0000 H   0  0  0  0  0  0  0  0  0  0  0  0\n",
      "   -1.5000    2.5981    0.0000 H   0  0  0  0  0  0  0  0  0  0  0  0\n",
      "   -3.0000    0.0000    0.0000 H   0  0  0  0  0  0  0  0  0  0  0  0\n",
      "   -2.2500   -3.8971    0.0000 H   0  0  0  0  0  0  0  0  0  0  0  0\n",
      "   -0.5297   -3.3293    0.0000 H   0  0  0  0  0  0  0  0  0  0  0  0\n",
      "   -2.7990   -1.8481    0.0000 H   0  0  0  0  0  0  0  0  0  0  0  0\n",
      "    4.1798   -2.4341    0.0000 H   0  0  0  0  0  0  0  0  0  0  0  0\n",
      "  1  2  2  0\n",
      "  2  3  1  0\n",
      "  3  4  2  0\n",
      "  4  5  1  0\n",
      "  5  6  1  0\n",
      "  5  7  1  0\n",
      "  7  8  1  0\n",
      "  8  9  2  0\n",
      "  9 10  1  0\n",
      " 10 11  2  0\n",
      " 11 12  1  0\n",
      " 12 13  2  0\n",
      " 13 14  1  0\n",
      "  7 15  1  0\n",
      "  6  2  1  0\n",
      " 13  8  1  0\n",
      "  3 16  1  0\n",
      "  4 17  1  0\n",
      "  5 18  1  0\n",
      "  7 19  1  0\n",
      "  9 20  1  0\n",
      " 10 21  1  0\n",
      " 11 22  1  0\n",
      " 12 23  1  0\n",
      " 14 24  1  0\n",
      " 14 25  1  0\n",
      " 14 26  1  0\n",
      " 15 27  1  0\n",
      "M  END\n",
      "\n"
     ]
    }
   ],
   "source": [
    "print(m)"
   ]
  },
  {
   "cell_type": "code",
   "execution_count": 48,
   "metadata": {},
   "outputs": [],
   "source": [
    "from openbabel import pybel"
   ]
  },
  {
   "cell_type": "code",
   "execution_count": 68,
   "metadata": {},
   "outputs": [
    {
     "name": "stdout",
     "output_type": "stream",
     "text": [
      "\n",
      " OpenBabel06072111453D\n",
      "\n",
      " 21 22  0  0  0  0  0  0  0  0999 V2000\n",
      "    1.1983    0.1151    0.0415 O   0  0  0  0  0  0  0  0  0  0  0  0\n",
      "    2.4079   -0.0003    0.0178 C   0  0  0  0  0  0  0  0  0  0  0  0\n",
      "    3.3794   -1.0547    0.0259 C   0  0  0  0  0  0  0  0  0  0  0  0\n",
      "    4.2834   -0.0479    0.0133 C   0  0  0  0  0  0  0  0  0  0  0  0\n",
      "    3.4017    0.9048   -0.0219 O   0  0  0  0  0  0  0  0  0  0  0  0\n",
      "    5.8157   -0.0329    0.0509 C   0  0  0  0  0  0  0  0  0  0  0  0\n",
      "    6.3866    1.3316    0.0945 C   0  0  0  0  0  0  0  0  0  0  0  0\n",
      "    7.1696    1.9170   -0.9725 C   0  0  0  0  0  3  0  0  0  0  0  0\n",
      "    7.5716    3.2422   -0.5614 C   0  0  0  0  0  0  0  0  0  0  0  0\n",
      "    6.9694    3.4793    0.6177 C   0  0  0  0  0  0  0  0  0  0  0  0\n",
      "    6.2377    2.2855    1.0356 C   0  0  0  0  0  0  0  0  0  0  0  0\n",
      "    5.4220    2.1726    2.2731 C   0  0  0  0  0  0  0  0  0  0  0  0\n",
      "    3.4119   -2.1319    0.0530 H   0  0  0  0  0  0  0  0  0  0  0  0\n",
      "    6.1892   -0.6157   -0.8009 H   0  0  0  0  0  0  0  0  0  0  0  0\n",
      "    6.1602   -0.6395    0.9005 H   0  0  0  0  0  0  0  0  0  0  0  0\n",
      "    6.8799    1.7444   -2.0026 H   0  0  0  0  0  0  0  0  0  0  0  0\n",
      "    8.1736    3.9150   -1.1499 H   0  0  0  0  0  0  0  0  0  0  0  0\n",
      "    6.9957    4.4109    1.1610 H   0  0  0  0  0  0  0  0  0  0  0  0\n",
      "    5.4190    3.0956    2.8559 H   0  0  0  0  0  0  0  0  0  0  0  0\n",
      "    5.7979    1.3589    2.9018 H   0  0  0  0  0  0  0  0  0  0  0  0\n",
      "    4.3782    1.9491    2.0314 H   0  0  0  0  0  0  0  0  0  0  0  0\n",
      "  1  2  2  0  0  0  0\n",
      "  2  3  1  0  0  0  0\n",
      "  2  5  1  0  0  0  0\n",
      "  3  4  2  0  0  0  0\n",
      "  3 13  1  0  0  0  0\n",
      "  4  5  1  0  0  0  0\n",
      "  4  6  1  0  0  0  0\n",
      "  6  7  1  0  0  0  0\n",
      "  6 14  1  0  0  0  0\n",
      "  6 15  1  0  0  0  0\n",
      "  7  8  1  0  0  0  0\n",
      "  7 11  2  0  0  0  0\n",
      "  8  9  1  0  0  0  0\n",
      "  8 16  1  0  0  0  0\n",
      "  9 10  2  0  0  0  0\n",
      "  9 17  1  0  0  0  0\n",
      " 10 11  1  0  0  0  0\n",
      " 10 18  1  0  0  0  0\n",
      " 11 12  1  0  0  0  0\n",
      " 12 19  1  0  0  0  0\n",
      " 12 20  1  0  0  0  0\n",
      " 12 21  1  0  0  0  0\n",
      "M  END\n",
      "$$$$\n",
      "\n"
     ]
    }
   ],
   "source": [
    "mol = pybel.readstring('smi','O=C1C=C(O1)C(c1cccc1C)')\n",
    "mol.make3D()\n",
    "mol.\n",
    "print(mol.write('sdf'))"
   ]
  },
  {
   "cell_type": "code",
   "execution_count": 51,
   "metadata": {},
   "outputs": [],
   "source": []
  },
  {
   "cell_type": "code",
   "execution_count": 63,
   "metadata": {},
   "outputs": [
    {
     "name": "stdout",
     "output_type": "stream",
     "text": [
      "\n",
      " OpenBabel06072111443D\n",
      "\n",
      " 27 28  0  0  0  0  0  0  0  0999 V2000\n",
      "   -1.8424   -0.0598   -0.6678 O   0  0  0  0  0  0  0  0  0  0  0  0\n",
      "   -0.6522    0.0721   -0.8246 C   0  0  0  0  0  0  0  0  0  0  0  0\n",
      "    0.2932   -1.0533   -1.0202 C   0  0  0  0  0  0  0  0  0  0  0  0\n",
      "    1.5060   -0.6052   -0.6735 C   0  0  0  0  0  0  0  0  0  0  0  0\n",
      "    1.4562    0.8242   -0.2497 C   0  0  0  0  0  0  0  0  0  0  0  0\n",
      "    0.0826    1.1893   -0.4852 O   0  0  0  0  0  0  0  0  0  0  0  0\n",
      "    2.0189    1.1899    1.2332 C   0  0  0  0  0  0  0  0  0  0  0  0\n",
      "    1.5089    0.6328    2.6057 C   0  0  0  0  0  0  0  0  0  0  0  0\n",
      "    1.9476    1.1577    3.8287 C   0  0  0  0  0  0  0  0  0  0  0  0\n",
      "    1.4445    0.6547    5.0622 C   0  0  0  0  0  0  0  0  0  0  0  0\n",
      "    0.4872   -0.3580    5.1266 C   0  0  0  0  0  0  0  0  0  0  0  0\n",
      "    0.0410   -0.8874    3.9626 C   0  0  0  0  0  0  0  0  0  0  0  0\n",
      "    0.5760   -0.4131    2.7742 C   0  0  0  0  0  0  0  0  0  0  0  0\n",
      "    0.0079   -1.1282    1.6565 C   0  0  0  0  0  0  0  0  0  0  0  0\n",
      "    3.4461    0.9604    1.1851 O   0  0  0  0  0  0  0  0  0  0  0  0\n",
      "   -0.0182   -2.0902   -0.9408 H   0  0  0  0  0  0  0  0  0  0  0  0\n",
      "    2.3324   -1.2580   -0.4223 H   0  0  0  0  0  0  0  0  0  0  0  0\n",
      "    2.0560    1.3825   -0.9795 H   0  0  0  0  0  0  0  0  0  0  0  0\n",
      "    1.9076    2.2833    1.2983 H   0  0  0  0  0  0  0  0  0  0  0  0\n",
      "    2.6849    1.9590    3.8613 H   0  0  0  0  0  0  0  0  0  0  0  0\n",
      "    1.7987    1.0591    6.0031 H   0  0  0  0  0  0  0  0  0  0  0  0\n",
      "    0.0787   -0.7592    6.0444 H   0  0  0  0  0  0  0  0  0  0  0  0\n",
      "   -0.7210   -1.6651    3.9195 H   0  0  0  0  0  0  0  0  0  0  0  0\n",
      "   -0.8669   -1.7631    1.7565 H   0  0  0  0  0  0  0  0  0  0  0  0\n",
      "    0.8377   -1.7144    1.2681 H   0  0  0  0  0  0  0  0  0  0  0  0\n",
      "   -0.3785   -0.2454    1.1940 H   0  0  0  0  0  0  0  0  0  0  0  0\n",
      "    3.5835    0.0040    1.2921 H   0  0  0  0  0  0  0  0  0  0  0  0\n",
      "  1  2  2  0  0  0  0\n",
      "  2  3  1  0  0  0  0\n",
      "  2  6  1  0  0  0  0\n",
      "  3  4  2  0  0  0  0\n",
      "  3 16  1  0  0  0  0\n",
      "  4  5  1  0  0  0  0\n",
      "  4 17  1  0  0  0  0\n",
      "  5  6  1  0  0  0  0\n",
      "  5  7  1  0  0  0  0\n",
      "  5 18  1  0  0  0  0\n",
      "  7  8  1  0  0  0  0\n",
      "  7 15  1  0  0  0  0\n",
      "  7 19  1  0  0  0  0\n",
      "  8  9  1  0  0  0  0\n",
      "  8 13  2  0  0  0  0\n",
      "  9 10  2  0  0  0  0\n",
      "  9 20  1  0  0  0  0\n",
      " 10 11  1  0  0  0  0\n",
      " 10 21  1  0  0  0  0\n",
      " 11 12  2  0  0  0  0\n",
      " 11 22  1  0  0  0  0\n",
      " 12 13  1  0  0  0  0\n",
      " 12 23  1  0  0  0  0\n",
      " 13 14  1  0  0  0  0\n",
      " 14 24  1  0  0  0  0\n",
      " 14 25  1  0  0  0  0\n",
      " 14 26  1  0  0  0  0\n",
      " 15 27  1  0  0  0  0\n",
      "M  END\n",
      ">  <Formula>\n",
      "C12H12O3\n",
      "\n",
      "$$$$\n",
      "\n"
     ]
    }
   ],
   "source": []
  },
  {
   "cell_type": "code",
   "execution_count": 1,
   "metadata": {},
   "outputs": [],
   "source": [
    "from ase.data.pubchem import pubchem_atoms_search, pubchem_atoms_conformer_search"
   ]
  },
  {
   "cell_type": "code",
   "execution_count": 8,
   "metadata": {},
   "outputs": [
    {
     "name": "stderr",
     "output_type": "stream",
     "text": [
      "/home/pv217/.conda/envs/ogb_lsc/lib/python3.8/site-packages/ase/data/pubchem.py:79: UserWarning: The structure \"O=C1C=CC(O1)C(c1ccccc1C)O\" has more than one conformer in PubChem. By default, the first conformer is returned, please ensure you are using the structure you intend to or use the `ase.data.pubchem.pubchem_conformer_search` function\n",
      "  warnings.warn('The structure \"{}\" has more than one '\n"
     ]
    }
   ],
   "source": [
    "benzene = pubchem_atoms_search(smiles='O=C1C=CC(O1)C(c1ccccc1C)O')"
   ]
  },
  {
   "cell_type": "code",
   "execution_count": 9,
   "metadata": {},
   "outputs": [
    {
     "data": {
      "text/plain": [
       "Atoms(symbols='O3C12H12', pbc=False, initial_charges=...)"
      ]
     },
     "execution_count": 9,
     "metadata": {},
     "output_type": "execute_result"
    }
   ],
   "source": [
    "benzene"
   ]
  },
  {
   "cell_type": "code",
   "execution_count": 10,
   "metadata": {},
   "outputs": [],
   "source": [
    "benzene = pubchem_atoms_conformer_search(smiles='O=C1C=CC(O1)C(c1ccccc1C)O')"
   ]
  },
  {
   "cell_type": "code",
   "execution_count": 12,
   "metadata": {},
   "outputs": [
    {
     "data": {
      "text/plain": [
       "False"
      ]
     },
     "execution_count": 12,
     "metadata": {},
     "output_type": "execute_result"
    }
   ],
   "source": [
    "benzene[2] == benzene[1]"
   ]
  },
  {
   "cell_type": "code",
   "execution_count": 17,
   "metadata": {},
   "outputs": [
    {
     "data": {
      "text/plain": [
       "array([[-2.4425e+00,  3.7810e-01, -7.8120e-01],\n",
       "       [-2.4390e-01,  1.8207e+00, -7.9190e-01],\n",
       "       [-4.6317e+00,  3.8970e-01, -7.0700e-02],\n",
       "       [-1.9590e-01,  6.6390e-01,  4.3600e-02],\n",
       "       [-1.2568e+00, -3.3110e-01, -3.9510e-01],\n",
       "       [ 1.1964e+00,  7.6200e-02, -8.2000e-03],\n",
       "       [ 2.3128e+00,  8.4550e-01,  3.1960e-01],\n",
       "       [-1.7210e+00, -1.2085e+00,  7.0090e-01],\n",
       "       [ 1.3551e+00, -1.2557e+00, -3.9060e-01],\n",
       "       [-3.0175e+00, -1.0426e+00,  9.4010e-01],\n",
       "       [ 3.5878e+00,  2.8280e-01,  2.6480e-01],\n",
       "       [-3.4877e+00, -2.4800e-02, -4.0000e-04],\n",
       "       [ 2.1678e+00,  2.2735e+00,  7.3190e-01],\n",
       "       [ 2.6303e+00, -1.8185e+00, -4.4540e-01],\n",
       "       [ 3.7467e+00, -1.0492e+00, -1.1750e-01],\n",
       "       [-4.0230e-01,  1.0025e+00,  1.0673e+00],\n",
       "       [-9.9400e-01, -8.8590e-01, -1.3003e+00],\n",
       "       [-1.0985e+00, -1.9068e+00,  1.2417e+00],\n",
       "       [ 5.5090e-01, -1.9330e+00, -6.4540e-01],\n",
       "       [-3.6258e+00, -1.5435e+00,  1.6726e+00],\n",
       "       [ 4.4681e+00,  8.6900e-01,  5.1530e-01],\n",
       "       [ 1.9815e+00,  2.9105e+00, -1.3810e-01],\n",
       "       [ 1.3688e+00,  2.4060e+00,  1.4677e+00],\n",
       "       [ 3.0834e+00,  2.6395e+00,  1.2112e+00],\n",
       "       [-1.1436e+00,  2.1849e+00, -7.3290e-01],\n",
       "       [ 2.7553e+00, -2.8567e+00, -7.3930e-01],\n",
       "       [ 4.7395e+00, -1.4876e+00, -1.5960e-01]])"
      ]
     },
     "execution_count": 17,
     "metadata": {},
     "output_type": "execute_result"
    }
   ],
   "source": [
    "benzene[5].get_positions()"
   ]
  },
  {
   "cell_type": "code",
   "execution_count": 5,
   "metadata": {},
   "outputs": [
    {
     "data": {
      "text/plain": [
       "['O',\n",
       " 'O',\n",
       " 'O',\n",
       " 'C',\n",
       " 'C',\n",
       " 'C',\n",
       " 'C',\n",
       " 'C',\n",
       " 'C',\n",
       " 'C',\n",
       " 'C',\n",
       " 'C',\n",
       " 'C',\n",
       " 'C',\n",
       " 'C',\n",
       " 'H',\n",
       " 'H',\n",
       " 'H',\n",
       " 'H',\n",
       " 'H',\n",
       " 'H',\n",
       " 'H',\n",
       " 'H',\n",
       " 'H',\n",
       " 'H',\n",
       " 'H',\n",
       " 'H']"
      ]
     },
     "execution_count": 5,
     "metadata": {},
     "output_type": "execute_result"
    }
   ],
   "source": [
    "benzene.get_chemical_symbols()"
   ]
  },
  {
   "cell_type": "code",
   "execution_count": null,
   "metadata": {},
   "outputs": [],
   "source": []
  }
 ],
 "metadata": {
  "kernelspec": {
   "display_name": "Python 3",
   "language": "python",
   "name": "python3"
  },
  "language_info": {
   "codemirror_mode": {
    "name": "ipython",
    "version": 3
   },
   "file_extension": ".py",
   "mimetype": "text/x-python",
   "name": "python",
   "nbconvert_exporter": "python",
   "pygments_lexer": "ipython3",
   "version": "3.8.8"
  }
 },
 "nbformat": 4,
 "nbformat_minor": 2
}
